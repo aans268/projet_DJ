{
 "cells": [
  {
   "cell_type": "markdown",
   "metadata": {},
   "source": [
    "## Projet DJ\n",
    "Aans Tahir 28710067"
   ]
  },
  {
   "cell_type": "code",
   "execution_count": 1,
   "metadata": {},
   "outputs": [],
   "source": [
    "from projet import *"
   ]
  },
  {
   "cell_type": "markdown",
   "metadata": {},
   "source": [
    "# MORPION"
   ]
  },
  {
   "cell_type": "markdown",
   "metadata": {},
   "source": [
    "#### Essai Morpion en jeu manuel"
   ]
  },
  {
   "cell_type": "code",
   "execution_count": 2,
   "metadata": {},
   "outputs": [],
   "source": [
    "#Attention : Marche pas bien avec notebook, à essayer sur un .py\n",
    "#morpionManuel()"
   ]
  },
  {
   "cell_type": "markdown",
   "metadata": {},
   "source": [
    "#### Essai Morpion aléatoire"
   ]
  },
  {
   "cell_type": "code",
   "execution_count": 3,
   "metadata": {},
   "outputs": [
    {
     "name": "stdout",
     "output_type": "stream",
     "text": [
      "\n",
      "1 | X | 3\n",
      "---------\n",
      "O | X | O\n",
      "---------\n",
      "7 | X | 9\n",
      "---------\n",
      "\n",
      "La partie est finie!\n",
      "Le joueur  X  a gagné !\n"
     ]
    }
   ],
   "source": [
    "#Possibilité de mettre affichage à False\n",
    "morpionAleatoire(affichage=False)"
   ]
  },
  {
   "cell_type": "markdown",
   "metadata": {},
   "source": [
    "#### Essai Morpion Min Max VS Aleatoire"
   ]
  },
  {
   "cell_type": "code",
   "execution_count": 4,
   "metadata": {},
   "outputs": [
    {
     "data": {
      "text/plain": [
       "'X'"
      ]
     },
     "execution_count": 4,
     "metadata": {},
     "output_type": "execute_result"
    }
   ],
   "source": [
    "morpionMinMaxVSAlea(affichage=False,horizon=3)"
   ]
  },
  {
   "cell_type": "markdown",
   "metadata": {},
   "source": [
    "#### Tournoi \n"
   ]
  },
  {
   "cell_type": "code",
   "execution_count": 5,
   "metadata": {},
   "outputs": [],
   "source": [
    "import time\n",
    "\n",
    "# Définir la fonction pour compter les victoires\n",
    "def tournoi(strat, horizon=False):\n",
    "    resultats = []\n",
    "    temps_total = 0\n",
    "    # Exécuter la fonction morpionMinMax 100 fois\n",
    "    for _ in range(100):\n",
    "        debut = time.time()\n",
    "        if horizon : resultat = strat(affichage=False, horizon=horizon)\n",
    "        else : resultat = strat(affichage=False)\n",
    "        temps_total += time.time() - debut\n",
    "        resultats.append(resultat)\n",
    "\n",
    "    # Compter les victoires\n",
    "    victoires_X = resultats.count('X')\n",
    "    victoires_O = resultats.count('O')\n",
    "    egalites = resultats.count('EGALITE')\n",
    "    \n",
    "    # Afficher les résultats\n",
    "    print(\"Nombre de victoires du joueur X :\", victoires_X)\n",
    "    print(\"Nombre de victoires du joueur O :\", victoires_O)\n",
    "    print(\"Nombre d'égalités :\", egalites)\n",
    "    print(\"Temps moyen par exécution :\", temps_total / 100, \"secondes\")\n",
    "\n",
    "    return victoires_X, victoires_O, egalites\n",
    "\n",
    "\n",
    "\n"
   ]
  },
  {
   "cell_type": "markdown",
   "metadata": {},
   "source": [
    "#### Tournoi MinMax vs Aleatoire"
   ]
  },
  {
   "cell_type": "code",
   "execution_count": 6,
   "metadata": {},
   "outputs": [
    {
     "name": "stdout",
     "output_type": "stream",
     "text": [
      "Nombre de victoires du joueur X : 88\n",
      "Nombre de victoires du joueur O : 7\n",
      "Nombre d'égalités : 5\n",
      "Temps moyen par exécution : 0.002648942470550537 secondes\n"
     ]
    },
    {
     "data": {
      "text/plain": [
       "(88, 7, 5)"
      ]
     },
     "execution_count": 6,
     "metadata": {},
     "output_type": "execute_result"
    }
   ],
   "source": [
    "#Horizon 1\n",
    "tournoi(morpionMinMaxVSAlea,horizon=1)"
   ]
  },
  {
   "cell_type": "code",
   "execution_count": 7,
   "metadata": {},
   "outputs": [
    {
     "name": "stdout",
     "output_type": "stream",
     "text": [
      "Nombre de victoires du joueur X : 98\n",
      "Nombre de victoires du joueur O : 0\n",
      "Nombre d'égalités : 2\n",
      "Temps moyen par exécution : 0.014605765342712402 secondes\n"
     ]
    },
    {
     "data": {
      "text/plain": [
       "(98, 0, 2)"
      ]
     },
     "execution_count": 7,
     "metadata": {},
     "output_type": "execute_result"
    }
   ],
   "source": [
    "#Horizon 2\n",
    "tournoi(morpionMinMaxVSAlea,horizon=2)"
   ]
  },
  {
   "cell_type": "code",
   "execution_count": 8,
   "metadata": {},
   "outputs": [
    {
     "name": "stdout",
     "output_type": "stream",
     "text": [
      "Nombre de victoires du joueur X : 94\n",
      "Nombre de victoires du joueur O : 2\n",
      "Nombre d'égalités : 4\n",
      "Temps moyen par exécution : 0.07419171810150146 secondes\n"
     ]
    },
    {
     "data": {
      "text/plain": [
       "(94, 2, 4)"
      ]
     },
     "execution_count": 8,
     "metadata": {},
     "output_type": "execute_result"
    }
   ],
   "source": [
    "#Horizon 3\n",
    "tournoi(morpionMinMaxVSAlea,horizon=3)"
   ]
  },
  {
   "cell_type": "markdown",
   "metadata": {},
   "source": [
    "#### Tournoi MinMax Horizon N VS MinMax Horizon 1"
   ]
  },
  {
   "cell_type": "code",
   "execution_count": 9,
   "metadata": {},
   "outputs": [
    {
     "name": "stdout",
     "output_type": "stream",
     "text": [
      "Nombre de victoires du joueur X : 98\n",
      "Nombre de victoires du joueur O : 0\n",
      "Nombre d'égalités : 2\n",
      "Temps moyen par exécution : 0.004206011295318604 secondes\n"
     ]
    },
    {
     "data": {
      "text/plain": [
       "(98, 0, 2)"
      ]
     },
     "execution_count": 9,
     "metadata": {},
     "output_type": "execute_result"
    }
   ],
   "source": [
    "#ATTENTION : f1 maximise que pour le joueur X actuellement donc si jveux faire affronter les deux faut creer f2 à part qui maximise pour joueur O\n",
    "\n",
    "tournoi(morpionMinMaxNVSMinMax1,horizon=0)"
   ]
  },
  {
   "cell_type": "markdown",
   "metadata": {},
   "source": [
    "# ALLUMETTE"
   ]
  },
  {
   "cell_type": "markdown",
   "metadata": {},
   "source": [
    "#### Allumette Aleatoire"
   ]
  },
  {
   "cell_type": "code",
   "execution_count": 10,
   "metadata": {},
   "outputs": [
    {
     "name": "stdout",
     "output_type": "stream",
     "text": [
      "Nombre de victoires du joueur X : 50\n",
      "Nombre de victoires du joueur O : 50\n",
      "Nombre d'égalités : 0\n",
      "Temps moyen par exécution : 3.000497817993164e-05 secondes\n"
     ]
    },
    {
     "data": {
      "text/plain": [
       "(50, 50, 0)"
      ]
     },
     "execution_count": 10,
     "metadata": {},
     "output_type": "execute_result"
    }
   ],
   "source": [
    "tournoi(allumettesAleatoire)"
   ]
  },
  {
   "cell_type": "markdown",
   "metadata": {},
   "source": [
    "#### Tournoi MinMax VS Aleatoire"
   ]
  },
  {
   "cell_type": "code",
   "execution_count": 11,
   "metadata": {},
   "outputs": [
    {
     "name": "stdout",
     "output_type": "stream",
     "text": [
      "Nombre de victoires du joueur X : 80\n",
      "Nombre de victoires du joueur O : 20\n",
      "Nombre d'égalités : 0\n",
      "Temps moyen par exécution : 2.4939293694496154 secondes\n"
     ]
    },
    {
     "data": {
      "text/plain": [
       "(80, 20, 0)"
      ]
     },
     "execution_count": 11,
     "metadata": {},
     "output_type": "execute_result"
    }
   ],
   "source": [
    "tournoi(allumettesMinMaxVSAleatoire, horizon=3)"
   ]
  },
  {
   "cell_type": "markdown",
   "metadata": {},
   "source": [
    "#### Tournoi Grundy VS Aleatoire"
   ]
  },
  {
   "cell_type": "code",
   "execution_count": 12,
   "metadata": {},
   "outputs": [
    {
     "name": "stdout",
     "output_type": "stream",
     "text": [
      "Nombre de victoires du joueur X : 95\n",
      "Nombre de victoires du joueur O : 5\n",
      "Nombre d'égalités : 0\n",
      "Temps moyen par exécution : 0.001470334529876709 secondes\n"
     ]
    },
    {
     "data": {
      "text/plain": [
       "(95, 5, 0)"
      ]
     },
     "execution_count": 12,
     "metadata": {},
     "output_type": "execute_result"
    }
   ],
   "source": [
    "tournoi(allumettesGrundyVSAleatoire)"
   ]
  },
  {
   "cell_type": "markdown",
   "metadata": {},
   "source": [
    "#### Tournoi Grundy VS MinMax 1"
   ]
  },
  {
   "cell_type": "code",
   "execution_count": 15,
   "metadata": {},
   "outputs": [
    {
     "name": "stdout",
     "output_type": "stream",
     "text": [
      "Nombre de victoires du joueur X : 100\n",
      "Nombre de victoires du joueur O : 0\n",
      "Nombre d'égalités : 0\n",
      "Temps moyen par exécution : 0.005056502819061279 secondes\n"
     ]
    },
    {
     "data": {
      "text/plain": [
       "(100, 0, 0)"
      ]
     },
     "execution_count": 15,
     "metadata": {},
     "output_type": "execute_result"
    }
   ],
   "source": [
    "tournoi(allumettesGrundyVSMinMax,horizon=1)"
   ]
  },
  {
   "cell_type": "markdown",
   "metadata": {},
   "source": [
    "#### Tournoi Grundy VS MinMax 3"
   ]
  },
  {
   "cell_type": "code",
   "execution_count": 14,
   "metadata": {},
   "outputs": [
    {
     "name": "stdout",
     "output_type": "stream",
     "text": [
      "Nombre de victoires du joueur X : 100\n",
      "Nombre de victoires du joueur O : 0\n",
      "Nombre d'égalités : 0\n",
      "Temps moyen par exécution : 0.09039285659790039 secondes\n"
     ]
    },
    {
     "data": {
      "text/plain": [
       "(100, 0, 0)"
      ]
     },
     "execution_count": 14,
     "metadata": {},
     "output_type": "execute_result"
    }
   ],
   "source": [
    "tournoi(allumettesGrundyVSMinMax,horizon=3)"
   ]
  },
  {
   "cell_type": "markdown",
   "metadata": {},
   "source": [
    "#### Tournoi Grundy VS MinMax 5"
   ]
  },
  {
   "cell_type": "code",
   "execution_count": 16,
   "metadata": {},
   "outputs": [
    {
     "name": "stdout",
     "output_type": "stream",
     "text": [
      "Nombre de victoires du joueur X : 100\n",
      "Nombre de victoires du joueur O : 0\n",
      "Nombre d'égalités : 0\n",
      "Temps moyen par exécution : 1.9228512263298034 secondes\n"
     ]
    },
    {
     "data": {
      "text/plain": [
       "(100, 0, 0)"
      ]
     },
     "execution_count": 16,
     "metadata": {},
     "output_type": "execute_result"
    }
   ],
   "source": [
    "tournoi(allumettesGrundyVSMinMax,horizon=5)"
   ]
  },
  {
   "cell_type": "markdown",
   "metadata": {},
   "source": [
    "La méthode MinMax est non seulement + coûteuse en temps, mais elle est aussi inefficace face à la stratégie utilisant Grundy, peu importe la profondeur de l'algorithme Grundy a 100% de réussite.\n",
    "Il faudrait avoir une fonction d'évaluation + complexe et une profondeur très élevé pour rendre le minmax plus efficace."
   ]
  }
 ],
 "metadata": {
  "kernelspec": {
   "display_name": "Python 3",
   "language": "python",
   "name": "python3"
  },
  "language_info": {
   "codemirror_mode": {
    "name": "ipython",
    "version": 3
   },
   "file_extension": ".py",
   "mimetype": "text/x-python",
   "name": "python",
   "nbconvert_exporter": "python",
   "pygments_lexer": "ipython3",
   "version": "3.11.9"
  }
 },
 "nbformat": 4,
 "nbformat_minor": 2
}
